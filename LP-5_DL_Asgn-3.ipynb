{
 "cells": [
  {
   "cell_type": "code",
   "execution_count": 1,
   "metadata": {
    "id": "TReNjQqhsVwy"
   },
   "outputs": [],
   "source": [
    "import tensorflow as tf\n",
    "from tensorflow import keras\n",
    "from tensorflow.keras.datasets import fashion_mnist\n",
    "from tensorflow.keras.models import Sequential\n",
    "from tensorflow.keras.layers import Conv2D, MaxPooling2D, Flatten, Dense, Dropout\n",
    "from tensorflow.keras.utils import to_categorical\n",
    "\n",
    "# Load the MNIST Fashion dataset\n",
    "(x_train, y_train), (x_test, y_test) = fashion_mnist.load_data()\n",
    "\n",
    "# Preprocess the data\n",
    "x_train = x_train.reshape(x_train.shape[0], 28, 28, 1) # Reshape to 28x28 grayscale images\n",
    "x_test = x_test.reshape(x_test.shape[0], 28, 28, 1)\n",
    "x_train = x_train.astype('float32') / 255 # Normalize pixel values to range [0, 1]\n",
    "x_test = x_test.astype('float32') / 255\n",
    "y_train = to_categorical(y_train, num_classes=10) # Convert labels to one-hot encoded vectors\n",
    "y_test = to_categorical(y_test, num_classes=10)"
   ]
  },
  {
   "cell_type": "code",
   "execution_count": 2,
   "metadata": {
    "colab": {
     "base_uri": "https://localhost:8080/",
     "height": 0
    },
    "id": "FjKFMG2gtQr5",
    "outputId": "b89e5567-cfea-4d9e-a5ff-f25856c20868"
   },
   "outputs": [
    {
     "name": "stdout",
     "output_type": "stream",
     "text": [
      "Epoch 1/10\n",
      "469/469 [==============================] - 65s 135ms/step - loss: 0.6409 - accuracy: 0.7709 - val_loss: 0.4312 - val_accuracy: 0.8381\n",
      "Epoch 2/10\n",
      "469/469 [==============================] - 60s 129ms/step - loss: 0.4217 - accuracy: 0.8485 - val_loss: 0.3649 - val_accuracy: 0.8675\n",
      "Epoch 3/10\n",
      "469/469 [==============================] - 62s 131ms/step - loss: 0.3633 - accuracy: 0.8697 - val_loss: 0.3282 - val_accuracy: 0.8791\n",
      "Epoch 4/10\n",
      "469/469 [==============================] - 59s 127ms/step - loss: 0.3288 - accuracy: 0.8822 - val_loss: 0.3029 - val_accuracy: 0.8910\n",
      "Epoch 5/10\n",
      "469/469 [==============================] - 61s 130ms/step - loss: 0.3067 - accuracy: 0.8887 - val_loss: 0.2901 - val_accuracy: 0.8939\n",
      "Epoch 6/10\n",
      "469/469 [==============================] - 60s 128ms/step - loss: 0.2856 - accuracy: 0.8956 - val_loss: 0.2770 - val_accuracy: 0.8976\n",
      "Epoch 7/10\n",
      "469/469 [==============================] - 61s 130ms/step - loss: 0.2687 - accuracy: 0.9021 - val_loss: 0.2743 - val_accuracy: 0.9011\n",
      "Epoch 8/10\n",
      "469/469 [==============================] - 60s 127ms/step - loss: 0.2530 - accuracy: 0.9083 - val_loss: 0.2582 - val_accuracy: 0.9046\n",
      "Epoch 9/10\n",
      "469/469 [==============================] - 61s 131ms/step - loss: 0.2442 - accuracy: 0.9109 - val_loss: 0.2607 - val_accuracy: 0.9055\n",
      "Epoch 10/10\n",
      "469/469 [==============================] - 60s 127ms/step - loss: 0.2305 - accuracy: 0.9150 - val_loss: 0.2538 - val_accuracy: 0.9103\n"
     ]
    },
    {
     "data": {
      "text/plain": [
       "<keras.callbacks.History at 0x7f38e36217e0>"
      ]
     },
     "execution_count": 2,
     "metadata": {},
     "output_type": "execute_result"
    }
   ],
   "source": [
    "# Define the model architecture\n",
    "model = Sequential([\n",
    "    Conv2D(32, kernel_size=(3, 3), activation='relu', input_shape=(28, 28, 1)),\n",
    "    MaxPooling2D(pool_size=(2, 2)),\n",
    "    Conv2D(64, kernel_size=(3, 3), activation='relu'),\n",
    "    MaxPooling2D(pool_size=(2, 2)),\n",
    "    Flatten(),\n",
    "    Dense(128, activation='relu'),\n",
    "    Dropout(0.5),\n",
    "    Dense(10, activation='softmax')\n",
    "])\n",
    "\n",
    "# Compile the model\n",
    "model.compile(loss='categorical_crossentropy', optimizer='adam', metrics=['accuracy'])\n",
    "\n",
    "# Train the model\n",
    "model.fit(x_train, y_train, batch_size=128, epochs=10, validation_data=(x_test, y_test))\n"
   ]
  },
  {
   "cell_type": "code",
   "execution_count": 3,
   "metadata": {
    "colab": {
     "base_uri": "https://localhost:8080/",
     "height": 0
    },
    "id": "qX5llqbP3fBb",
    "outputId": "30b27b0d-4555-4e2b-ea98-461979c2e740"
   },
   "outputs": [
    {
     "name": "stdout",
     "output_type": "stream",
     "text": [
      "313/313 [==============================] - 5s 15ms/step - loss: 0.2538 - accuracy: 0.9103\n",
      "Testing loss: 0.2537824809551239\n",
      "Testing accuracy: 0.9103000164031982\n"
     ]
    }
   ],
   "source": [
    "# Evaluate the model on the testing set\n",
    "loss, accuracy = model.evaluate(x_test, y_test)\n",
    "print(\"Testing loss:\", loss)\n",
    "print(\"Testing accuracy:\", accuracy)\n"
   ]
  }
 ],
 "metadata": {
  "colab": {
   "provenance": []
  },
  "kernelspec": {
   "display_name": "Python 3 (ipykernel)",
   "language": "python",
   "name": "python3"
  },
  "language_info": {
   "codemirror_mode": {
    "name": "ipython",
    "version": 3
   },
   "file_extension": ".py",
   "mimetype": "text/x-python",
   "name": "python",
   "nbconvert_exporter": "python",
   "pygments_lexer": "ipython3",
   "version": "3.10.10"
  }
 },
 "nbformat": 4,
 "nbformat_minor": 4
}
